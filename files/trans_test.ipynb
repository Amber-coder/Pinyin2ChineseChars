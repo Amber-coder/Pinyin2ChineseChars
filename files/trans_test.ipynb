{
 "cells": [
  {
   "cell_type": "code",
   "execution_count": 1,
   "metadata": {},
   "outputs": [
    {
     "name": "stdout",
     "output_type": "stream",
     "text": [
      "中文信息处理\n"
     ]
    }
   ],
   "source": [
    "# -*- coding: utf-8 -*-\n",
    "import json\n",
    "from bigram import Bigram\n",
    "\n",
    "class HMM:\n",
    "    def __init__(self):\n",
    "        self.load_param()\n",
    "        self.bigram = Bigram()\n",
    "    \n",
    "    def load_param(self):\n",
    "        self.init_prob = self.read('init_prob')\n",
    "        self.emiss_prob = self.read('emiss_prob')\n",
    "        self.trans_prob = self.read('trans_prob')\n",
    "        self.pinyin_states = self.read('pinyin_states')\n",
    "        \n",
    "    def read(self, filename):\n",
    "        with open('model_params/' + filename + '.json', 'r') as f:\n",
    "            return json.load(f)\n",
    "        \n",
    "    # Viterbi process\n",
    "    def trans(self, strs):\n",
    "\n",
    "        # 切分\n",
    "        seq = self.bigram.dp_search(strs)\n",
    "        \n",
    "        # smooth\n",
    "        self.min_f = -3.14e+100\n",
    "        length = len(seq)\n",
    "        \n",
    "        viterbi = {}\n",
    "        for i in range(length):\n",
    "            viterbi[i] = {}\n",
    "        \n",
    "        # initize\n",
    "        for s in self.pinyin_states.get(seq[0]):\n",
    "            viterbi[0][s] = (self.init_prob.get(s, self.min_f) + \n",
    "                   self.emiss_prob.get(s, {}).get(seq[0], self.min_f) + \n",
    "                   self.trans_prob.get(s, {}).get('BOS', self.min_f), -1)\n",
    "        \n",
    "        # DP \n",
    "        # look trans_prob = {post1:{pre1:p1, pre2:p2}, post2:{pre1:p1, pre2:p2}}\n",
    "        for i in range(length - 1):\n",
    "            for s in self.pinyin_states.get(seq[i+1]):\n",
    "                viterbi[i + 1][s] = max([ ( viterbi[i][pre][0] + self.emiss_prob.get(s, {}).get(seq[i+1], self.min_f)\n",
    "                + self.trans_prob.get(s, {}).get(pre, self.min_f) ,pre) for pre in self.pinyin_states.get(seq[i])])\n",
    "        \n",
    "        for s in self.pinyin_states.get(seq[-1]):\n",
    "            viterbi[length-1][s] = (viterbi[length-1][s][0] + self.trans_prob.get('EOS', {}).get(s, self.min_f),\n",
    "                   viterbi[length-1][s][1] )\n",
    "    \n",
    "    \n",
    "        words = [None] * length\n",
    "\n",
    "        words[-1] = max(viterbi[length - 1], key=viterbi[length - 1].get)\n",
    "        \n",
    "        for n in range(length-2, -1, -1):\n",
    "            words[n] = viterbi[n+1][words[n+1]][1]\n",
    "        \n",
    "        return ''.join(w for w in words)\n",
    "\n",
    "'''\n",
    "laisongtulomalasongganxietigongodadadetexieo\n",
    "zheweirenxionghaoshuanglo\n",
    "zhengaaaaaaaaaaaaaagandidechixianwoxiangzhidaobiangetongjudaduolojurangandougoudandafenxiangxianzaidehouzhendeshiwuyaokejiu\n",
    "'''\n",
    "'''\n",
    "HMM只考虑上一个字\n",
    "jiaohuaqiao\n",
    "xidazhijie\n",
    "'''\n",
    "hmm = HMM()\n",
    "print(hmm.trans('zhongwenxinxichuli'))"
   ]
  },
  {
   "cell_type": "code",
   "execution_count": 2,
   "metadata": {},
   "outputs": [
    {
     "name": "stdout",
     "output_type": "stream",
     "text": [
      "哈尔滨工业大学计算机科学与技术学院和软件学院\n"
     ]
    }
   ],
   "source": [
    "print(hmm.trans('haerbingongyedaxuejisuanjikexueyujishuxueyuanheruanjianxueyuan'))"
   ]
  },
  {
   "cell_type": "code",
   "execution_count": 3,
   "metadata": {},
   "outputs": [
    {
     "name": "stdout",
     "output_type": "stream",
     "text": [
      "哈工大第二届冰雕大赛将在十二月二十四日举行\n"
     ]
    }
   ],
   "source": [
    "print(hmm.trans('hagongdadierjiebingdiaodasaijiangzaishieryueershisirijuxing'))"
   ]
  },
  {
   "cell_type": "code",
   "execution_count": 4,
   "metadata": {},
   "outputs": [
    {
     "name": "stdout",
     "output_type": "stream",
     "text": [
      "中美贸易战将影响中美关系和全世界的经济格局\n"
     ]
    }
   ],
   "source": [
    "print(hmm.trans('zhongmeimaoyizhanjiangyingxiangzhongmeiguanxihequanshijiedejingjigeju'))"
   ]
  },
  {
   "cell_type": "code",
   "execution_count": 6,
   "metadata": {},
   "outputs": [
    {
     "name": "stdout",
     "output_type": "stream",
     "text": [
      "马尔科夫模型\n"
     ]
    }
   ],
   "source": [
    "print(hmm.trans('maerkefumoxing'))"
   ]
  },
  {
   "cell_type": "code",
   "execution_count": 7,
   "metadata": {},
   "outputs": [
    {
     "name": "stdout",
     "output_type": "stream",
     "text": [
      "曹雪芹\n"
     ]
    }
   ],
   "source": [
    "print(hmm.trans('caoxueqin'))"
   ]
  },
  {
   "cell_type": "code",
   "execution_count": 8,
   "metadata": {},
   "outputs": [
    {
     "name": "stdout",
     "output_type": "stream",
     "text": [
      "百度和阿里都是互联网公司\n"
     ]
    }
   ],
   "source": [
    "print(hmm.trans('baiduhealidoushihulianwanggongsi'))"
   ]
  },
  {
   "cell_type": "code",
   "execution_count": 9,
   "metadata": {},
   "outputs": [
    {
     "name": "stdout",
     "output_type": "stream",
     "text": [
      "今朝有酒今朝醉\n"
     ]
    }
   ],
   "source": [
    "print(hmm.trans('jinzhaoyoujiujinzhaozui'))"
   ]
  },
  {
   "cell_type": "code",
   "execution_count": 10,
   "metadata": {},
   "outputs": [
    {
     "name": "stdout",
     "output_type": "stream",
     "text": [
      "公元三六一四年\n"
     ]
    }
   ],
   "source": [
    "print(hmm.trans('gongyuansanliuyisinian'))"
   ]
  },
  {
   "cell_type": "code",
   "execution_count": 11,
   "metadata": {},
   "outputs": [
    {
     "name": "stdout",
     "output_type": "stream",
     "text": [
      "莱芜市金穗大酒店\n"
     ]
    }
   ],
   "source": [
    "print(hmm.trans('laiwushijinsuidajiudian'))"
   ]
  },
  {
   "cell_type": "code",
   "execution_count": 15,
   "metadata": {},
   "outputs": [
    {
     "name": "stdout",
     "output_type": "stream",
     "text": [
      "英雄联盟和王者荣耀风靡全球\n"
     ]
    }
   ],
   "source": [
    "print(hmm.trans('yingxionglianmenghewangzherongyaofengmiquanqiu'))"
   ]
  },
  {
   "cell_type": "code",
   "execution_count": 13,
   "metadata": {},
   "outputs": [
    {
     "name": "stdout",
     "output_type": "stream",
     "text": [
      "把中华优秀传统文化作为滋养当代中国人精神的源泉和沃土\n"
     ]
    }
   ],
   "source": [
    "print(hmm.trans('bazhonghuayouxiuchuantongwenhuazuoweiziyangdangdaizhongguorenjingshendeyuanquanhewotu'))"
   ]
  },
  {
   "cell_type": "code",
   "execution_count": 14,
   "metadata": {},
   "outputs": [
    {
     "name": "stdout",
     "output_type": "stream",
     "text": [
      "以习近平同志为核心的党中央\n"
     ]
    }
   ],
   "source": [
    "print(hmm.trans('yixijinpingtongzhiweihexindedangzhongyang'))"
   ]
  },
  {
   "cell_type": "code",
   "execution_count": 16,
   "metadata": {},
   "outputs": [
    {
     "name": "stdout",
     "output_type": "stream",
     "text": [
      "零点五十三分六秒\n"
     ]
    }
   ],
   "source": [
    "print(hmm.trans('lingdianwushisanfenliumiao'))"
   ]
  },
  {
   "cell_type": "code",
   "execution_count": 17,
   "metadata": {},
   "outputs": [
    {
     "name": "stdout",
     "output_type": "stream",
     "text": [
      "中寨苗族彝族布依族乡\n"
     ]
    }
   ],
   "source": [
    "print(hmm.trans('zhongzhaimiaozuyizubuyizuxiang'))"
   ]
  },
  {
   "cell_type": "code",
   "execution_count": 18,
   "metadata": {
    "scrolled": true
   },
   "outputs": [
    {
     "name": "stdout",
     "output_type": "stream",
     "text": [
      "残酷角斗士的利斧\n"
     ]
    }
   ],
   "source": [
    "print(hmm.trans('cankujiaodoushidelifu'))"
   ]
  },
  {
   "cell_type": "code",
   "execution_count": 19,
   "metadata": {
    "scrolled": true
   },
   "outputs": [
    {
     "name": "stdout",
     "output_type": "stream",
     "text": [
      "魑魅魍魉\n"
     ]
    }
   ],
   "source": [
    "print(hmm.trans('chimeiwangliang'))"
   ]
  },
  {
   "cell_type": "code",
   "execution_count": 20,
   "metadata": {},
   "outputs": [
    {
     "name": "stdout",
     "output_type": "stream",
     "text": [
      "县交通大学\n"
     ]
    }
   ],
   "source": [
    "print(hmm.trans('xianjiaotongdaxue'))"
   ]
  },
  {
   "cell_type": "code",
   "execution_count": 21,
   "metadata": {},
   "outputs": [
    {
     "name": "stdout",
     "output_type": "stream",
     "text": [
      "饮马尔科夫模型\n"
     ]
    }
   ],
   "source": [
    "print(hmm.trans('yinmaerkefumoxing'))"
   ]
  },
  {
   "cell_type": "code",
   "execution_count": 22,
   "metadata": {},
   "outputs": [
    {
     "name": "stdout",
     "output_type": "stream",
     "text": [
      "百度和阿里都是由民的互联网公司\n"
     ]
    }
   ],
   "source": [
    "print(hmm.trans('baiduhealidoushiyoumindehulianwanggongsi'))"
   ]
  },
  {
   "cell_type": "code",
   "execution_count": 23,
   "metadata": {},
   "outputs": [
    {
     "name": "stdout",
     "output_type": "stream",
     "text": [
      "白杜阿里腾讯股歌微软亚马逊\n"
     ]
    }
   ],
   "source": [
    "print(hmm.trans('baidualitengxungugeweiruanyamaxun'))"
   ]
  },
  {
   "cell_type": "code",
   "execution_count": 24,
   "metadata": {},
   "outputs": [
    {
     "name": "stdout",
     "output_type": "stream",
     "text": [
      "上个世纪三十年代的经融危及早就了信息技术的蓬勃发展\n"
     ]
    }
   ],
   "source": [
    "print(hmm.trans('shanggeshijisanshiniandaidejingrongweijizaojiulexinxijishudepengbofazhan'))"
   ]
  },
  {
   "cell_type": "code",
   "execution_count": 25,
   "metadata": {},
   "outputs": [
    {
     "name": "stdout",
     "output_type": "stream",
     "text": [
      "支付宝扫红包赚上进\n"
     ]
    }
   ],
   "source": [
    "print(hmm.trans('zhifubaosaohongbaozhuanshangjin'))"
   ]
  },
  {
   "cell_type": "code",
   "execution_count": 26,
   "metadata": {},
   "outputs": [
    {
     "name": "stdout",
     "output_type": "stream",
     "text": [
      "向全国广大科技工作者之以崇高精益和诚挚的问候\n"
     ]
    }
   ],
   "source": [
    "print(hmm.trans('xiangquanguoguangdakejigongzuozhezhiyichonggaojingyihechengzhidewenhou'))"
   ]
  },
  {
   "cell_type": "code",
   "execution_count": 27,
   "metadata": {},
   "outputs": [
    {
     "name": "stdout",
     "output_type": "stream",
     "text": [
      "管线磷酸还原酶\n"
     ]
    }
   ],
   "source": [
    "print(hmm.trans('guanxianlinsuanhuanyuanmei'))"
   ]
  },
  {
   "cell_type": "code",
   "execution_count": 28,
   "metadata": {},
   "outputs": [
    {
     "name": "stdout",
     "output_type": "stream",
     "text": [
      "西大直接就是二号\n"
     ]
    }
   ],
   "source": [
    "print(hmm.trans('xidazhijiejiushierhao'))"
   ]
  },
  {
   "cell_type": "code",
   "execution_count": 29,
   "metadata": {},
   "outputs": [
    {
     "name": "stdout",
     "output_type": "stream",
     "text": [
      "大型人工神进网络高素逻辑电路\n"
     ]
    }
   ],
   "source": [
    "print(hmm.trans('daxingrengongshenjinwangluogaosuluojidianlu'))"
   ]
  },
  {
   "cell_type": "code",
   "execution_count": 30,
   "metadata": {},
   "outputs": [
    {
     "name": "stdout",
     "output_type": "stream",
     "text": [
      "残酷角斗士的理府批响了他\n"
     ]
    }
   ],
   "source": [
    "print(hmm.trans('cankujiaodoushidelifupixiangleta'))"
   ]
  },
  {
   "cell_type": "code",
   "execution_count": 31,
   "metadata": {},
   "outputs": [
    {
     "name": "stdout",
     "output_type": "stream",
     "text": [
      "澳洲腹瓢壶玉\n"
     ]
    }
   ],
   "source": [
    "print(hmm.trans('aozhoufupiaohuyu'))"
   ]
  },
  {
   "cell_type": "code",
   "execution_count": 32,
   "metadata": {},
   "outputs": [
    {
     "name": "stdout",
     "output_type": "stream",
     "text": [
      "拼音汉字转换策时\n"
     ]
    }
   ],
   "source": [
    "print(hmm.trans('pinyinhanzizhuanhuanceshi'))"
   ]
  },
  {
   "cell_type": "code",
   "execution_count": null,
   "metadata": {},
   "outputs": [],
   "source": []
  }
 ],
 "metadata": {
  "kernelspec": {
   "display_name": "Python 3",
   "language": "python",
   "name": "python3"
  },
  "language_info": {
   "codemirror_mode": {
    "name": "ipython",
    "version": 3
   },
   "file_extension": ".py",
   "mimetype": "text/x-python",
   "name": "python",
   "nbconvert_exporter": "python",
   "pygments_lexer": "ipython3",
   "version": "3.6.4"
  }
 },
 "nbformat": 4,
 "nbformat_minor": 2
}
